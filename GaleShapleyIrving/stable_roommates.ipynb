{
  "nbformat": 4,
  "nbformat_minor": 0,
  "metadata": {
    "colab": {
      "name": "stable_roommates.ipynb",
      "provenance": []
    },
    "kernelspec": {
      "name": "python3",
      "display_name": "Python 3"
    }
  },
  "cells": [
    {
      "cell_type": "markdown",
      "metadata": {
        "id": "myuKTcSkTFY4"
      },
      "source": [
        "# LABORATORIO 9 - Gale-Shapley and Irving Algorithms"
      ]
    },
    {
      "cell_type": "markdown",
      "metadata": {
        "id": "YNfhgmWlTcR7"
      },
      "source": [
        "## 1. Find the best and worst cases for the Gale-Shapley and Irving ( An Efficient Algorithm for the “Stable Roommates” Problem) Algorithms and run these algorithms for for n=4 and 40."
      ]
    },
    {
      "cell_type": "code",
      "metadata": {
        "id": "gVZPbJ6XUk9G"
      },
      "source": [
        "# Python3 program for stable marriage problem, implementation from geeksforgeeks.org/stable-marriage-problem/\n",
        "\n",
        "# woman 'w' prefers man 'm1' over man 'm' \n",
        "def wPrefersM1OverM(prefer, woman, man, man1, n): \n",
        "  N = n\n",
        "\t# Check if w prefers m over her \n",
        "\t# current engagment m1 \n",
        "  for i in range(N):\n",
        "\t\t# If m1 comes before m in list of w, \n",
        "\t\t# then w prefers her current engagement, \n",
        "\t\t# don't do anything \n",
        "    if (prefer[woman][i] == man1): \n",
        "      return True\n",
        "\t\t# If m cmes before m1 in w's list, \n",
        "\t\t# then free her current engagement \n",
        "\t\t# and engage her with m \n",
        "    if (prefer[woman][i] == man): \n",
        "      return False\n",
        "  \n",
        "# Prints stable matching for N boys and N girls. \n",
        "# Boys are numbered as 0 to N-1. \n",
        "# Girls are numbereed as N to 2N-1. \n",
        "def stableMarriage(prefer, n): \n",
        "  N = n\n",
        "  # Stores partner of women. This is our output \n",
        "  # array that stores paing information. \n",
        "\t# The value of wPartner[i] indicates the partner \n",
        "\t# assigned to woman N+i. Note that the woman numbers \n",
        "\t# between N and 2*N-1. The value -1 indicates \n",
        "\t# that (N+i)'th woman is free \n",
        "  wPartner = [-1 for i in range(N)] \n",
        "\n",
        "\t# An array to store availability of men. \n",
        "\t# If mFree[i] is false, then man 'i' is free, \n",
        "\t# otherwise engaged. \n",
        "  mFree = [False for i in range(N)] \n",
        "\n",
        "  freeCount = N \n",
        "\n",
        "  iterations = 0\n",
        "\n",
        "\t# While there are free men \n",
        "  while (freeCount > 0): \n",
        "    iterations += 1\n",
        "\t\t# Pick the first free man (we could pick any) \n",
        "    m = 0\n",
        "    while (m < N): \n",
        "      if (mFree[m] == False): \n",
        "        break\n",
        "      m += 1\n",
        "\n",
        "\t\t# One by one go to all women according to \n",
        "\t\t# m's preferences. Here m is the picked free man \n",
        "    i = 0\n",
        "    while i < N and mFree[m] == False: \n",
        "      w = prefer[m][i] \n",
        "\n",
        "\t\t\t# The woman of preference is free, \n",
        "\t\t\t# w and m become partners (Note that \n",
        "\t\t\t# the partnership maybe changed later). \n",
        "\t\t\t# So we can say they are engaged not married \n",
        "      if (wPartner[w - N] == -1): \n",
        "        wPartner[w - N] = m \n",
        "        mFree[m] = True\n",
        "        freeCount -= 1\n",
        "\n",
        "      else: \t\n",
        "\t\t\t\t# If w is not free \n",
        "\t\t\t\t# Find current engagement of w \n",
        "        m1 = wPartner[w - N] \n",
        "\n",
        "\t\t\t\t# If w prefers m over her current engagement m1, \n",
        "\t\t\t\t# then break the engagement between w and m1 and \n",
        "\t\t\t\t# engage m with w. \n",
        "        if (wPrefersM1OverM(prefer, w, m, m1, N) == False): \n",
        "          wPartner[w - N] = m \n",
        "          mFree[m] = True\n",
        "          mFree[m1] = False\n",
        "      i += 1\n",
        "\n",
        "\t\t\t# End of Else \n",
        "\t\t# End of the for loop that goes \n",
        "\t\t# to all women in m's list \n",
        "\t# End of main while loop \n",
        "\n",
        "\t# Print the solution \n",
        "  print(\"Iterations: \", iterations)\n",
        "  print(\"Woman \", \" Man\") \n",
        "  for i in range(N): \n",
        "    print(i + N, \"<--->\", wPartner[i]) \n",
        "  return iterations"
      ],
      "execution_count": 3,
      "outputs": []
    },
    {
      "cell_type": "markdown",
      "metadata": {
        "id": "h0L8InmsZTz8"
      },
      "source": [
        "Para n =4"
      ]
    },
    {
      "cell_type": "code",
      "metadata": {
        "colab": {
          "base_uri": "https://localhost:8080/"
        },
        "id": "M22XmpcyU213",
        "outputId": "392e62c9-f958-40c4-95d9-caab2e3de916"
      },
      "source": [
        "N=4\n",
        "prefer = []\n",
        "\n",
        "# Girl's list\n",
        "preferW = [i+N for i in range(N)]\n",
        "prefer.append(preferW[:])\n",
        "for i in range(N-1):\n",
        "  listaux = preferW[1:N-1]\n",
        "  elemaux = preferW[0]\n",
        "  preferW[N-2] = elemaux\n",
        "  preferW[0:N-2] = listaux[:]\n",
        "  prefer.append(preferW[:])\n",
        "\n",
        "# Men's list\n",
        "preferM = [i for i in range(N)]\n",
        "for i in range(N):\n",
        "  ax = preferM.pop(0)\n",
        "  preferM.append(ax)\n",
        "  prefer.append(preferM[:])\n",
        "\n",
        "print(stableMarriage(prefer,N))"
      ],
      "execution_count": 4,
      "outputs": [
        {
          "output_type": "stream",
          "text": [
            "Iterations:  13\n",
            "Woman   Man\n",
            "4 <---> 1\n",
            "5 <---> 2\n",
            "6 <---> 3\n",
            "7 <---> 0\n",
            "13\n"
          ],
          "name": "stdout"
        }
      ]
    },
    {
      "cell_type": "markdown",
      "metadata": {
        "id": "Wz_bnDLWZuST"
      },
      "source": [
        "Para n=*40*"
      ]
    },
    {
      "cell_type": "code",
      "metadata": {
        "colab": {
          "base_uri": "https://localhost:8080/"
        },
        "id": "8N7d-7FgZxfz",
        "outputId": "896d19af-a033-4562-8e53-f07bc90fd2fd"
      },
      "source": [
        "N2=40\n",
        "prefer2 = []\n",
        "\n",
        "# Girl's list\n",
        "preferW = [i+N2 for i in range(N2)]\n",
        "prefer2.append(preferW[:])\n",
        "for i in range(N2-1):\n",
        "  listaux = preferW[1:N2-1]\n",
        "  elemaux = preferW[0]\n",
        "  preferW[N2-2] = elemaux\n",
        "  preferW[0:N2-2] = listaux[:]\n",
        "  prefer2.append(preferW[:])\n",
        "\n",
        "# Men's list\n",
        "preferM = [i for i in range(N2)]\n",
        "for i in range(N2):\n",
        "  ax = preferM.pop(0)\n",
        "  preferM.append(ax)\n",
        "  prefer2.append(preferM[:])\n",
        "\n",
        "print(stableMarriage(prefer2,N2))"
      ],
      "execution_count": 5,
      "outputs": [
        {
          "output_type": "stream",
          "text": [
            "Iterations:  1561\n",
            "Woman   Man\n",
            "40 <---> 1\n",
            "41 <---> 2\n",
            "42 <---> 3\n",
            "43 <---> 4\n",
            "44 <---> 5\n",
            "45 <---> 6\n",
            "46 <---> 7\n",
            "47 <---> 8\n",
            "48 <---> 9\n",
            "49 <---> 10\n",
            "50 <---> 11\n",
            "51 <---> 12\n",
            "52 <---> 13\n",
            "53 <---> 14\n",
            "54 <---> 15\n",
            "55 <---> 16\n",
            "56 <---> 17\n",
            "57 <---> 18\n",
            "58 <---> 19\n",
            "59 <---> 20\n",
            "60 <---> 21\n",
            "61 <---> 22\n",
            "62 <---> 23\n",
            "63 <---> 24\n",
            "64 <---> 25\n",
            "65 <---> 26\n",
            "66 <---> 27\n",
            "67 <---> 28\n",
            "68 <---> 29\n",
            "69 <---> 30\n",
            "70 <---> 31\n",
            "71 <---> 32\n",
            "72 <---> 33\n",
            "73 <---> 34\n",
            "74 <---> 35\n",
            "75 <---> 36\n",
            "76 <---> 37\n",
            "77 <---> 38\n",
            "78 <---> 39\n",
            "79 <---> 0\n",
            "1561\n"
          ],
          "name": "stdout"
        }
      ]
    }
  ]
}