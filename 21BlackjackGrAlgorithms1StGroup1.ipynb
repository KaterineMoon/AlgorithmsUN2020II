{
  "nbformat": 4,
  "nbformat_minor": 0,
  "metadata": {
    "colab": {
      "name": "21BlackjackGrAlgorithms1StGroup1",
      "provenance": [],
      "collapsed_sections": [],
      "include_colab_link": true
    },
    "kernelspec": {
      "name": "python3",
      "display_name": "Python 3"
    }
  },
  "cells": [
    {
      "cell_type": "markdown",
      "metadata": {
        "id": "view-in-github",
        "colab_type": "text"
      },
      "source": [
        "<a href=\"https://colab.research.google.com/github/KaterineMoon/AlgorithmsUN2020II/blob/master/21BlackjackGrAlgorithms1StGroup1.ipynb\" target=\"_parent\"><img src=\"https://colab.research.google.com/assets/colab-badge.svg\" alt=\"Open In Colab\"/></a>"
      ]
    },
    {
      "cell_type": "markdown",
      "metadata": {
        "id": "W1sQcwPHphyE"
      },
      "source": [
        "<img src=\"https://portafoliodigitalmodelosojcr.weebly.com/uploads/4/8/8/4/48840943/1824297_orig.jpg\" align=\"center\"/>"
      ]
    },
    {
      "cell_type": "code",
      "metadata": {
        "id": "gWYXauBUiyLy"
      },
      "source": [
        "import random as r\n",
        "import matplotlib.pyplot as plt\n",
        "import matplotlib.ticker as plt_tick\n",
        "import numpy as np"
      ],
      "execution_count": null,
      "outputs": []
    },
    {
      "cell_type": "markdown",
      "metadata": {
        "id": "G6bb9IwUUXOq"
      },
      "source": [
        "## Definición del método Monte Carlo para blackjack"
      ]
    },
    {
      "cell_type": "code",
      "metadata": {
        "id": "XEpaMt-HpV5i"
      },
      "source": [
        "def monte_carlo_blackjack(iterations, deck, initial_game_cards=[], saving_memory=False, ploting=False):\n",
        "  win_count = 0\n",
        "  win_game_cards_count = []\n",
        "  for _ in range(iterations):\n",
        "    game_cards = initial_game_cards[:]\n",
        "    game_deck = deck[:]\n",
        "    while sum(game_cards) < 21:\n",
        "      card = r.choice(game_deck)\n",
        "      game_deck.remove(card)\n",
        "      game_cards.append(card)\n",
        "    if sum(game_cards) == 21:\n",
        "      win_count += 1\n",
        "      if not saving_memory:\n",
        "        win_game_cards_count.append(len(game_cards))\n",
        "  #print('Gané {} veces y perdí {} veces, la probabilidad de ganar es de {}'.format(win_count, iterations-win_count, win_count/iterations))\n",
        "  if not saving_memory:\n",
        "    if ploting:\n",
        "      win_game_cards_unique = list(set(win_game_cards_count))\n",
        "      win_game_cards_weight = []\n",
        "      win_game_cards_percentage = []\n",
        "      win_game_cards_distribution = []\n",
        "      for n in win_game_cards_unique:\n",
        "        n_count = win_game_cards_count.count(n)\n",
        "        win_game_cards_weight.append(n_count)\n",
        "        win_game_cards_percentage.append('{:.2f}%'.format(n_count*100/len(win_game_cards_count)))\n",
        "        win_game_cards_distribution.append(float('{:.2f}'.format(n_count/len(win_game_cards_count))))\n",
        "      chart = plt.bar(win_game_cards_unique, win_game_cards_distribution, alpha=0.5)\n",
        "      table = plt.table(cellText=[win_game_cards_percentage, win_game_cards_weight],\n",
        "                        rowLabels=['Porcentaje', 'Cantidad'],\n",
        "                        colLabels=win_game_cards_unique,\n",
        "                        loc='bottom')\n",
        "      plt.subplots_adjust(left=0.2, bottom=0.2)\n",
        "      plt.xticks([])\n",
        "      plt.show();\n",
        "\n",
        "      plt.show();\n",
        "  else:\n",
        "      #pass\n",
        "      print(game_cards)\n",
        "  #print(\"veces ganadas {}\".format(win_count))\n",
        "  #print(\"repeticiones {}\".format(iterations))\n",
        "  #print(\"Probabilidad de ganar {}\".format(win_count/iterations))\n",
        "  return win_count/iterations, win_game_cards_count"
      ],
      "execution_count": null,
      "outputs": []
    },
    {
      "cell_type": "markdown",
      "metadata": {
        "id": "UlNnsHP1UxFT"
      },
      "source": [
        "## Punto 1"
      ]
    },
    {
      "cell_type": "code",
      "metadata": {
        "id": "sJ0JLFqpoTcH"
      },
      "source": [
        "# standard decks\n",
        "std_spanish_deck = [1,2,3,4,5,6,7,10,11,12,1,2,3,4,5,6,7,8,9,10,11,12,1,2,3,4,5,6,7,8,9,10,11,12,1,2,3,4,5,6,7,8,9,10,11,12] \n",
        "std_poker_deck = [1,2,3,4,5,6,7,8,9,10,11,12,13,1,2,3,4,5,6,7,8,9,10,11,12,13,1,2,3,4,5,6,7,8,9,10,11,12,13,1,2,3,4,5,6,7,8,9,10,11,12,13]"
      ],
      "execution_count": null,
      "outputs": []
    },
    {
      "cell_type": "code",
      "metadata": {
        "id": "n1t8JkuCf6b-",
        "outputId": "670b3dc2-3179-4b0a-c30c-5e07e6e5c333",
        "colab": {
          "base_uri": "https://localhost:8080/",
          "height": 52
        }
      },
      "source": [
        "probability, win_cards_sum = monte_carlo_blackjack(1000000, std_spanish_deck, saving_memory=True)\n",
        "print(\"Probabilidad de ganar {}\".format(probability))"
      ],
      "execution_count": null,
      "outputs": [
        {
          "output_type": "stream",
          "text": [
            "[6, 12, 1, 12]\n",
            "Probabilidad de ganar 0.158521\n"
          ],
          "name": "stdout"
        }
      ]
    },
    {
      "cell_type": "code",
      "metadata": {
        "id": "I-78SXgAtvs_",
        "outputId": "c28d27de-b5f4-4ede-8b98-0925241b2fe6",
        "colab": {
          "base_uri": "https://localhost:8080/",
          "height": 276
        }
      },
      "source": [
        "probability, win_cards_sum = monte_carlo_blackjack(10000000, std_spanish_deck, ploting=True)\n",
        "print(\"Probabilidad de ganar {}\".format(probability))"
      ],
      "execution_count": null,
      "outputs": [
        {
          "output_type": "display_data",
          "data": {
            "image/png": "[encoded data removed]",
            "text/plain": [
              "<Figure size 432x288 with 1 Axes>"
            ]
          },
          "metadata": {
            "tags": [],
            "needs_background": "light"
          }
        },
        {
          "output_type": "stream",
          "text": [
            "Probabilidad de ganar 0.1584972\n"
          ],
          "name": "stdout"
        }
      ]
    },
    {
      "cell_type": "code",
      "metadata": {
        "id": "Mq8ZVlUruueY",
        "outputId": "467c02cd-df01-4a8b-cb60-478c8bf37fdc",
        "colab": {
          "base_uri": "https://localhost:8080/",
          "height": 276
        }
      },
      "source": [
        "probability, win_cards_sum = monte_carlo_blackjack(10000000, std_poker_deck, ploting=True)\n",
        "print(\"Probabilidad de ganar {}\".format(probability))"
      ],
      "execution_count": null,
      "outputs": [
        {
          "output_type": "display_data",
          "data": {
            "image/png": "[encoded data removed]",
            "text/plain": [
              "<Figure size 432x288 with 1 Axes>"
            ]
          },
          "metadata": {
            "tags": [],
            "needs_background": "light"
          }
        },
        {
          "output_type": "stream",
          "text": [
            "Probabilidad de ganar 0.1445725\n"
          ],
          "name": "stdout"
        }
      ]
    },
    {
      "cell_type": "markdown",
      "metadata": {
        "id": "N51Jow9yVQyC"
      },
      "source": [
        "## Punto 2"
      ]
    },
    {
      "cell_type": "code",
      "metadata": {
        "id": "efNUSygaVSgW"
      },
      "source": [
        "# normal weight decks\n",
        "nrm_spanish_deck = [1,2,3,4,5,6,7,8,9,10,10,10,1,2,3,4,5,6,7,8,9,10,10,10,1,2,3,4,5,6,7,8,9,10,10,10,1,2,3,4,5,6,7,8,9,10,10,10]\n",
        "nrm_poker_deck = [1,2,3,4,5,6,7,8,9,10,10,10,10,1,2,3,4,5,6,7,8,9,10,10,10,10,1,2,3,4,5,6,7,8,9,10,10,10,10,1,2,3,4,5,6,7,8,9,10,10,10,10]"
      ],
      "execution_count": null,
      "outputs": []
    },
    {
      "cell_type": "code",
      "metadata": {
        "id": "RuGrHA-rWBOS",
        "outputId": "992fdbf8-04ca-4b90-9d3e-5be26e631a49",
        "colab": {
          "base_uri": "https://localhost:8080/",
          "height": 276
        }
      },
      "source": [
        "probability, win_cards_sum = monte_carlo_blackjack(10000000, nrm_spanish_deck, ploting=True)\n",
        "print(\"Probabilidad de ganar {}\".format(probability))"
      ],
      "execution_count": null,
      "outputs": [
        {
          "output_type": "display_data",
          "data": {
            "image/png": "[encoded data removed]",
            "text/plain": [
              "<Figure size 432x288 with 1 Axes>"
            ]
          },
          "metadata": {
            "tags": [],
            "needs_background": "light"
          }
        },
        {
          "output_type": "stream",
          "text": [
            "Probabilidad de ganar 0.149747\n"
          ],
          "name": "stdout"
        }
      ]
    },
    {
      "cell_type": "code",
      "metadata": {
        "id": "rCPKWAX9WEcE"
      },
      "source": [
        "probability, win_cards_sum = monte_carlo_blackjack(10000000, nrm_poker_deck, ploting=True)\n",
        "print(\"Probabilidad de ganar {}\".format(probability))"
      ],
      "execution_count": null,
      "outputs": []
    },
    {
      "cell_type": "markdown",
      "metadata": {
        "id": "EmMHkULkW0if"
      },
      "source": [
        "## Punto 3"
      ]
    },
    {
      "cell_type": "code",
      "metadata": {
        "id": "uT7ZTsVGsChl"
      },
      "source": [
        "def custom_deck(base_deck, parts_of_deck=2, hand=[]):\n",
        "  auxiliar_deck = base_deck[:]\n",
        "  for card in hand:\n",
        "    auxiliar_deck.remove(card)\n",
        "  game_deck = []\n",
        "  for _ in range(int(len(base_deck)/parts_of_deck)):\n",
        "    card = r.choice(auxiliar_deck)\n",
        "    auxiliar_deck.remove(card)\n",
        "    game_deck.append(card)\n",
        "  return game_deck"
      ],
      "execution_count": null,
      "outputs": []
    },
    {
      "cell_type": "code",
      "metadata": {
        "id": "fjLDcgk6vROe",
        "outputId": "6cb51d61-d69c-4731-e41e-21bd2696a622",
        "colab": {
          "base_uri": "https://localhost:8080/",
          "height": 34
        }
      },
      "source": [
        "spanish_cool_deck = custom_deck(std_spanish_deck, hand=[7, 7, 5])\n",
        "print(spanish_cool_deck)"
      ],
      "execution_count": null,
      "outputs": [
        {
          "output_type": "stream",
          "text": [
            "[4, 8, 11, 4, 6, 4, 10, 4, 5, 9, 11, 10, 2, 9, 6, 1, 1, 10, 3, 11, 12, 7, 12]\n"
          ],
          "name": "stdout"
        }
      ]
    },
    {
      "cell_type": "code",
      "metadata": {
        "id": "BUxYvbPxuYSx",
        "outputId": "bc230e7f-f876-4d36-ffbf-e87a44876b8d",
        "colab": {
          "base_uri": "https://localhost:8080/",
          "height": 276
        }
      },
      "source": [
        "probability, win_cards_sum = monte_carlo_blackjack(10000000, spanish_cool_deck, [7, 7, 5], ploting=True)\n",
        "print(\"Probabilidad de ganar {}\".format(probability))"
      ],
      "execution_count": null,
      "outputs": [
        {
          "output_type": "display_data",
          "data": {
            "image/png": "[encoded data removed]",
            "text/plain": [
              "<Figure size 432x288 with 1 Axes>"
            ]
          },
          "metadata": {
            "tags": [],
            "needs_background": "light"
          }
        },
        {
          "output_type": "stream",
          "text": [
            "Probabilidad de ganar 0.0474348\n"
          ],
          "name": "stdout"
        }
      ]
    },
    {
      "cell_type": "markdown",
      "metadata": {
        "id": "bucg6hJphpU_"
      },
      "source": [
        "## Punto 4"
      ]
    },
    {
      "cell_type": "code",
      "metadata": {
        "id": "EfVxsWuHhoPk"
      },
      "source": [
        "spanish_hot_deck = [1, 1, 1, 1, 2, 2, 2, 2, 10, 10, 10, 10]\n",
        "poker_hot_deck = [1, 1, 1, 1, 2, 2, 2, 2, 10, 10, 10, 10]\n",
        "spanish_cold_deck = [8, 8, 8, 8, 9, 9, 9, 9, 10, 10, 10, 10]\n",
        "poker_cold_deck = [8, 8, 8, 8, 9, 9, 9, 9, 10, 10, 10, 10]"
      ],
      "execution_count": null,
      "outputs": []
    },
    {
      "cell_type": "code",
      "metadata": {
        "id": "Pos8G05UwCYc",
        "outputId": "47f02cf8-396a-4e45-a541-d9c04a5e72e4",
        "colab": {
          "base_uri": "https://localhost:8080/",
          "height": 52
        }
      },
      "source": [
        "probability, win_cards_sum = monte_carlo_blackjack(10000000, spanish_hot_deck, [7, 7, 5], saving_memory=True, ploting=True)\n",
        "print(\"Probabilidad de ganar {}\".format(probability))"
      ],
      "execution_count": null,
      "outputs": [
        {
          "output_type": "stream",
          "text": [
            "[7, 7, 5, 10]\n",
            "Probabilidad de ganar 0.4241882\n"
          ],
          "name": "stdout"
        }
      ]
    },
    {
      "cell_type": "code",
      "metadata": {
        "id": "jIjvKLvCvsW8",
        "outputId": "787102bd-1f70-4ced-cace-65c3cfa87620",
        "colab": {
          "base_uri": "https://localhost:8080/",
          "height": 52
        }
      },
      "source": [
        "probability, win_cards_sum = monte_carlo_blackjack(10000, spanish_cold_deck, [7, 7, 5], saving_memory=True)\n",
        "print(\"Probabilidad de ganar {}\".format(probability))"
      ],
      "execution_count": null,
      "outputs": [
        {
          "output_type": "stream",
          "text": [
            "[7, 7, 5, 10]\n",
            "Probabilidad de ganar 0.0\n"
          ],
          "name": "stdout"
        }
      ]
    },
    {
      "cell_type": "code",
      "metadata": {
        "id": "guZRcXOwv43j",
        "outputId": "4a61dc79-df7e-4693-f8d8-864f19a11bb0",
        "colab": {
          "base_uri": "https://localhost:8080/",
          "height": 52
        }
      },
      "source": [
        "probability, win_cards_sum = monte_carlo_blackjack(10000, poker_hot_deck, [7, 7, 5], saving_memory=True, ploting=True)\n",
        "print(\"Probabilidad de ganar {}\".format(probability))"
      ],
      "execution_count": null,
      "outputs": [
        {
          "output_type": "stream",
          "text": [
            "[7, 7, 5, 1, 10]\n",
            "Probabilidad de ganar 0.4274\n"
          ],
          "name": "stdout"
        }
      ]
    },
    {
      "cell_type": "code",
      "metadata": {
        "id": "psRlOAbNv5bt",
        "outputId": "c6a2445a-b7c5-4bc2-cd4b-0ab189d280ca",
        "colab": {
          "base_uri": "https://localhost:8080/",
          "height": 52
        }
      },
      "source": [
        "probability, win_cards_sum = monte_carlo_blackjack(10000, poker_cold_deck, [7, 7, 5], saving_memory=True)\n",
        "print(\"Probabilidad de ganar {}\".format(probability))"
      ],
      "execution_count": null,
      "outputs": [
        {
          "output_type": "stream",
          "text": [
            "[7, 7, 5, 8]\n",
            "Probabilidad de ganar 0.0\n"
          ],
          "name": "stdout"
        }
      ]
    },
    {
      "cell_type": "markdown",
      "metadata": {
        "id": "Q0cx2XHuoZfw"
      },
      "source": [
        "## Punto 5"
      ]
    },
    {
      "cell_type": "code",
      "metadata": {
        "id": "hHKB8Oy9odOA",
        "outputId": "d9da750b-73f8-4d4e-8e3b-e3f27a0be01b",
        "colab": {
          "base_uri": "https://localhost:8080/",
          "height": 34
        }
      },
      "source": [
        "balances = []\n",
        "total_sum_balances = 0 \n",
        "for i in range (0,10000):\n",
        "  bet_hot_deck = 1000\n",
        "  bet_cold_deck = 10\n",
        "  balance = 0\n",
        "  for weekend in range (0,600):\n",
        "    #balance -= bet_hot_deck\n",
        "    if(r.random()<=0.1):\n",
        "      balance -= bet_hot_deck\n",
        "      probability, win_cards_sum = monte_carlo_blackjack(1, spanish_hot_deck, [7,7,5])\n",
        "      \n",
        "      if(probability == 1):\n",
        "        #balance += bet_hot_deck*1.5\n",
        "        balance += bet_hot_deck*2\n",
        "    else:\n",
        "      balance -= bet_cold_deck\n",
        "      probability, win_cards_sum = monte_carlo_blackjack(1, std_spanish_deck)\n",
        "      #probability, win_cards_sum = monte_carlo_blackjack(1, spanish_cold_deck, [7,7,5])\n",
        "\n",
        "      if(probability == 1):\n",
        "        #balance += bet_cold_deck*1.5\n",
        "        balance += bet_cold_deck*2\n",
        "  balances.append(balance)\n",
        "  total_sum_balances += balance\n",
        "\n",
        "print('El promedio de los balances obtenidos es: {}'.format(total_sum_balances/len(balances)))\n",
        "#plt.hist(balances, bins=30)\n",
        "#plt.show();\n"
      ],
      "execution_count": null,
      "outputs": [
        {
          "output_type": "stream",
          "text": [
            "El promedio de los balances obtenidos es: -12711.671\n"
          ],
          "name": "stdout"
        }
      ]
    },
    {
      "cell_type": "code",
      "metadata": {
        "id": "WEP5uXciIWhp"
      },
      "source": [
        ""
      ],
      "execution_count": null,
      "outputs": []
    }
  ]
}